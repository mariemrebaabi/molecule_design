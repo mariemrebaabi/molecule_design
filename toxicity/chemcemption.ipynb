{
  "cells": [
    {
      "cell_type": "code",
      "source": [
        "!pip install xlsxwriter"
      ],
      "metadata": {
        "id": "uFPJS5Kf5ghG",
        "outputId": "9a9d4db0-6bfb-40a0-8dfd-9680c84a6886",
        "colab": {
          "base_uri": "https://localhost:8080/"
        }
      },
      "execution_count": 1,
      "outputs": [
        {
          "output_type": "stream",
          "name": "stdout",
          "text": [
            "Looking in indexes: https://pypi.org/simple, https://us-python.pkg.dev/colab-wheels/public/simple/\n",
            "Collecting xlsxwriter\n",
            "  Downloading XlsxWriter-3.1.0-py3-none-any.whl (152 kB)\n",
            "\u001b[2K     \u001b[90m━━━━━━━━━━━━━━━━━━━━━━━━━━━━━━━━━━━━━━\u001b[0m \u001b[32m152.7/152.7 kB\u001b[0m \u001b[31m13.7 MB/s\u001b[0m eta \u001b[36m0:00:00\u001b[0m\n",
            "\u001b[?25hInstalling collected packages: xlsxwriter\n",
            "Successfully installed xlsxwriter-3.1.0\n"
          ]
        }
      ]
    },
    {
      "cell_type": "code",
      "execution_count": 2,
      "metadata": {
        "id": "39URY2Ut5DJI"
      },
      "outputs": [],
      "source": [
        "from keras import optimizers\n",
        "from keras.callbacks import ModelCheckpoint\n",
        "from keras import backend as K\n",
        "from keras import optimizers\n",
        "from keras.layers import Dense\n",
        "from keras.layers import Dense, Dropout\n",
        "from keras.models import Sequential\n",
        "from keras.wrappers.scikit_learn import KerasClassifier\n",
        "from pandas import ExcelFile\n",
        "from pandas import ExcelWriter\n",
        "from PIL import Image\n",
        "from scipy import ndimage\n",
        "from scipy.stats import randint as sp_randint\n",
        "from sklearn.base import BaseEstimator\n",
        "from sklearn.base import TransformerMixin\n",
        "from sklearn.ensemble import ExtraTreesClassifier\n",
        "from sklearn.ensemble import RandomForestClassifier\n",
        "from sklearn.feature_selection import SelectFromModel\n",
        "from sklearn import datasets\n",
        "from sklearn import metrics\n",
        "from sklearn import pipeline\n",
        "from sklearn.metrics import roc_auc_score, roc_curve\n",
        "from sklearn.model_selection import cross_val_score\n",
        "from sklearn.model_selection import GridSearchCV\n",
        "from sklearn.model_selection import PredefinedSplit\n",
        "from sklearn.model_selection import RandomizedSearchCV\n",
        "from sklearn.model_selection import ShuffleSplit\n",
        "from sklearn.model_selection import StratifiedKFold\n",
        "from sklearn.model_selection import train_test_split\n",
        "from sklearn.pipeline import Pipeline\n",
        "from sklearn.preprocessing import FunctionTransformer\n",
        "#from sklearn.preprocessing import Imputer\n",
        "from sklearn.impute import SimpleImputer\n",
        "\n",
        "from sklearn.preprocessing import LabelEncoder\n",
        "from sklearn.preprocessing import StandardScaler\n",
        "from sklearn.utils import resample\n",
        "from tensorflow.python.framework import ops\n",
        "import h5py\n",
        "import keras\n",
        "import matplotlib.pyplot as plt\n",
        "import numpy as np\n",
        "import openpyxl\n",
        "import pandas as pd\n",
        "import scipy\n",
        "import tensorflow as tf\n",
        "import xlsxwriter\n",
        "\n",
        "import numpy as np\n",
        "from keras import layers\n",
        "from keras.layers import Input, Dense, Activation, ZeroPadding2D, BatchNormalization, Flatten, Conv2D\n",
        "from keras.layers import AveragePooling2D, MaxPooling2D, Dropout, GlobalMaxPooling2D, GlobalAveragePooling2D\n",
        "from keras.models import Model\n",
        "from keras.preprocessing import image\n",
        "from keras.utils import layer_utils\n",
        "from keras.utils.data_utils import get_file\n",
        "from keras.applications.imagenet_utils import preprocess_input\n",
        "import pydot\n",
        "from IPython.display import SVG\n",
        "from keras.utils.vis_utils import model_to_dot\n",
        "from keras.utils import plot_model\n",
        "\n",
        "\n",
        "import keras.backend as K\n",
        "%load_ext autoreload\n",
        "%matplotlib inline"
      ]
    },
    {
      "cell_type": "code",
      "source": [
        "!pip install rdkit"
      ],
      "metadata": {
        "id": "-1Pfl8Ql5uF0",
        "outputId": "713d84d9-490c-4d1c-f791-bed33fd5681a",
        "colab": {
          "base_uri": "https://localhost:8080/"
        }
      },
      "execution_count": 3,
      "outputs": [
        {
          "output_type": "stream",
          "name": "stdout",
          "text": [
            "Looking in indexes: https://pypi.org/simple, https://us-python.pkg.dev/colab-wheels/public/simple/\n",
            "Collecting rdkit\n",
            "  Downloading rdkit-2022.9.5-cp310-cp310-manylinux_2_17_x86_64.manylinux2014_x86_64.whl (29.4 MB)\n",
            "\u001b[2K     \u001b[90m━━━━━━━━━━━━━━━━━━━━━━━━━━━━━━━━━━━━━━━━\u001b[0m \u001b[32m29.4/29.4 MB\u001b[0m \u001b[31m50.5 MB/s\u001b[0m eta \u001b[36m0:00:00\u001b[0m\n",
            "\u001b[?25hRequirement already satisfied: Pillow in /usr/local/lib/python3.10/dist-packages (from rdkit) (8.4.0)\n",
            "Requirement already satisfied: numpy in /usr/local/lib/python3.10/dist-packages (from rdkit) (1.22.4)\n",
            "Installing collected packages: rdkit\n",
            "Successfully installed rdkit-2022.9.5\n"
          ]
        }
      ]
    },
    {
      "cell_type": "code",
      "execution_count": 4,
      "metadata": {
        "id": "5oNYHVTs5DJM",
        "outputId": "afff93cb-eead-4ac7-a6f7-cb34015e84d1",
        "colab": {
          "base_uri": "https://localhost:8080/"
        }
      },
      "outputs": [
        {
          "output_type": "stream",
          "name": "stdout",
          "text": [
            "RDKit: 2022.09.5\n"
          ]
        }
      ],
      "source": [
        "from __future__ import print_function\n",
        "import rdkit\n",
        "from rdkit import Chem\n",
        "from rdkit.Chem import AllChem\n",
        "import pandas as pd\n",
        "import numpy as np\n",
        " \n",
        "from matplotlib import pyplot as plt\n",
        "%matplotlib inline\n",
        "print(\"RDKit: %s\"%rdkit.__version__)"
      ]
    },
    {
      "cell_type": "code",
      "execution_count": 5,
      "metadata": {
        "id": "wDYmFX1h5DJM",
        "outputId": "156472c2-2af6-4cdb-d8ac-97ba7f3f73be",
        "colab": {
          "base_uri": "https://localhost:8080/"
        }
      },
      "outputs": [
        {
          "output_type": "stream",
          "name": "stdout",
          "text": [
            "Keras: 2.12.0\n"
          ]
        }
      ],
      "source": [
        "import keras\n",
        "from sklearn.utils import shuffle\n",
        "from keras.models import Sequential, Model\n",
        "from keras.layers import Conv2D, MaxPooling2D, Input, GlobalMaxPooling2D\n",
        "from keras.layers.core import Dense, Dropout, Activation, Flatten\n",
        "from keras.optimizers import Adam\n",
        "from keras.preprocessing.image import ImageDataGenerator\n",
        "from keras.callbacks import ReduceLROnPlateau\n",
        "print(\"Keras: %s\"%keras.__version__)"
      ]
    },
    {
      "cell_type": "code",
      "execution_count": 6,
      "metadata": {
        "id": "LblGlUeV5DJM"
      },
      "outputs": [],
      "source": [
        "data = pd.read_excel(r'/content/IGC50.xlsx')"
      ]
    },
    {
      "cell_type": "code",
      "execution_count": 7,
      "metadata": {
        "id": "jG0hqn5m5DJN"
      },
      "outputs": [],
      "source": [
        "data[\"mol\"] = data[\"smiles\"].apply(Chem.MolFromSmiles)"
      ]
    },
    {
      "cell_type": "code",
      "source": [],
      "metadata": {
        "id": "q7fN1tMVOrI7",
        "outputId": "a970e54b-2120-4ebe-a15c-4b2269dfb8ad",
        "colab": {
          "base_uri": "https://localhost:8080/"
        }
      },
      "execution_count": 73,
      "outputs": [
        {
          "output_type": "execute_result",
          "data": {
            "text/plain": [
              "0       <rdkit.Chem.rdchem.Mol object at 0x7fd44dcfa030>\n",
              "1       <rdkit.Chem.rdchem.Mol object at 0x7fd44dcf9ee0>\n",
              "2       <rdkit.Chem.rdchem.Mol object at 0x7fd44dcf97e0>\n",
              "3       <rdkit.Chem.rdchem.Mol object at 0x7fd44dcf98c0>\n",
              "4       <rdkit.Chem.rdchem.Mol object at 0x7fd44dcf9d20>\n",
              "                              ...                       \n",
              "1787    <rdkit.Chem.rdchem.Mol object at 0x7fd44d436ff0>\n",
              "1788    <rdkit.Chem.rdchem.Mol object at 0x7fd44d437060>\n",
              "1789    <rdkit.Chem.rdchem.Mol object at 0x7fd44d4370d0>\n",
              "1790    <rdkit.Chem.rdchem.Mol object at 0x7fd44d437140>\n",
              "1791    <rdkit.Chem.rdchem.Mol object at 0x7fd44d4371b0>\n",
              "Name: mol, Length: 1792, dtype: object"
            ]
          },
          "metadata": {},
          "execution_count": 73
        }
      ]
    },
    {
      "cell_type": "code",
      "execution_count": 8,
      "metadata": {
        "id": "f2xY5OdH5DJN"
      },
      "outputs": [],
      "source": [
        "def chemcepterize_mol(mol, embed=20.0, res=0.5):\n",
        "    dims = int(embed*2/res)\n",
        "    #print(dims)\n",
        "   \n",
        "    #print(mol)\n",
        "    #print(\",,,,,,,,,,,,,,,,,,,,,,\")\n",
        "    cmol = Chem.Mol(mol.ToBinary())\n",
        "    #print(cmol)\n",
        "    #print(\",,,,,,,,,,,,,,,,,,,,,,\")\n",
        "    cmol.ComputeGasteigerCharges()\n",
        "    AllChem.Compute2DCoords(cmol)\n",
        "    coords = cmol.GetConformer(0).GetPositions()\n",
        "    #print(coords)\n",
        "    #print(\",,,,,,,,,,,,,,,,,,,,,,\")\n",
        "    vect = np.zeros((dims,dims,4))\n",
        "    #Bonds first\n",
        "    for i,bond in enumerate(mol.GetBonds()):\n",
        "        bondorder = bond.GetBondTypeAsDouble()\n",
        "        bidx = bond.GetBeginAtomIdx()\n",
        "        eidx = bond.GetEndAtomIdx()\n",
        "        bcoords = coords[bidx]\n",
        "        ecoords = coords[eidx]\n",
        "        frac = np.linspace(0,1,int(1/res*2)) #\n",
        "        for f in frac:\n",
        "            c = (f*bcoords + (1-f)*ecoords)\n",
        "            idx = int(round((c[0] + embed)/res))\n",
        "            idy = int(round((c[1]+ embed)/res))\n",
        "            #Save in the vector first channel\n",
        "            vect[ idx , idy ,0] = bondorder\n",
        "    #Atom Layers\n",
        "    for i,atom in enumerate(cmol.GetAtoms()):\n",
        "            idx = int(round((coords[i][0] + embed)/res))\n",
        "            idy = int(round((coords[i][1]+ embed)/res))\n",
        "            #Atomic number\n",
        "            vect[ idx , idy, 1] = atom.GetAtomicNum()\n",
        "            #Gasteiger Charges\n",
        "            charge = atom.GetProp(\"_GasteigerCharge\")\n",
        "            vect[ idx , idy, 3] = charge\n",
        "            #Hybridization\n",
        "            hyptype = atom.GetHybridization().real\n",
        "            vect[ idx , idy, 2] = hyptype\n",
        "            \n",
        "    return vect"
      ]
    },
    {
      "cell_type": "code",
      "execution_count": 9,
      "metadata": {
        "id": "3rhLSMWe5DJN",
        "outputId": "5dbac2db-38bf-4915-f483-e12bbc63f669",
        "colab": {
          "base_uri": "https://localhost:8080/",
          "height": 485
        }
      },
      "outputs": [
        {
          "output_type": "stream",
          "name": "stderr",
          "text": [
            "WARNING:matplotlib.image:Clipping input data to the valid range for imshow with RGB data ([0..1] for floats or [0..255] for integers).\n"
          ]
        },
        {
          "output_type": "stream",
          "name": "stdout",
          "text": [
            "(100, 100, 4)\n"
          ]
        },
        {
          "output_type": "execute_result",
          "data": {
            "text/plain": [
              "<matplotlib.image.AxesImage at 0x7fd44d442200>"
            ]
          },
          "metadata": {},
          "execution_count": 9
        },
        {
          "output_type": "display_data",
          "data": {
            "text/plain": [
              "<Figure size 640x480 with 1 Axes>"
            ],
            "image/png": "[encoded data removed]"
          },
          "metadata": {}
        }
      ],
      "source": [
        "mol = data[\"mol\"][104]\n",
        "v = chemcepterize_mol(mol, embed=10, res=0.2)\n",
        "\n",
        "print(v.shape)\n",
        "plt.imshow(v[:,:,:3])    \n"
      ]
    },
    {
      "cell_type": "code",
      "execution_count": 10,
      "metadata": {
        "id": "PG92Gtu_5DJN"
      },
      "outputs": [],
      "source": [
        "def vectorize(mol):\n",
        "    return chemcepterize_mol(mol, embed=12)\n",
        "data[\"molimage\"] = data[\"mol\"].apply(vectorize)"
      ]
    },
    {
      "cell_type": "code",
      "source": [
        "smiles_str = \"CC(=O)OC1=CC=CC=C1C(=O)O\"\n",
        "mol = Chem.MolFromSmiles(smiles_str)\n",
        "#smiles_str.apply(Chem.MolFromSmiles)\n",
        "l=chemcepterize_mol(mol, embed=20.0, res=0.5)\n",
        "l.shape"
      ],
      "metadata": {
        "id": "j0TEJ8rKNtXA",
        "outputId": "8b2a07b8-a852-472d-f840-4bc5b8f0645b",
        "colab": {
          "base_uri": "https://localhost:8080/"
        }
      },
      "execution_count": 81,
      "outputs": [
        {
          "output_type": "execute_result",
          "data": {
            "text/plain": [
              "(80, 80, 4)"
            ]
          },
          "metadata": {},
          "execution_count": 81
        }
      ]
    },
    {
      "cell_type": "code",
      "source": [
        "l=vectorize(mol)\n",
        "l.shape"
      ],
      "metadata": {
        "id": "dUbESn9OP86K",
        "outputId": "7542722f-277e-415c-8144-3df05f7e94ac",
        "colab": {
          "base_uri": "https://localhost:8080/"
        }
      },
      "execution_count": 84,
      "outputs": [
        {
          "output_type": "execute_result",
          "data": {
            "text/plain": [
              "(48, 48, 4)"
            ]
          },
          "metadata": {},
          "execution_count": 84
        }
      ]
    },
    {
      "cell_type": "code",
      "execution_count": 11,
      "metadata": {
        "id": "C9j_cR3s5DJO",
        "outputId": "401f09e8-7150-4e51-d7ff-1c466c12c194",
        "colab": {
          "base_uri": "https://localhost:8080/"
        }
      },
      "outputs": [
        {
          "output_type": "stream",
          "name": "stdout",
          "text": [
            "(1434, 48, 48, 4)\n",
            "(358, 48, 48, 4)\n"
          ]
        }
      ],
      "source": [
        "X_train = np.array(list(data[\"molimage\"][data[\"split\"]==1]))\n",
        "X_test = np.array(list(data[\"molimage\"][data[\"split\"]==0]))\n",
        "print(X_train.shape)\n",
        "print(X_test.shape)"
      ]
    },
    {
      "cell_type": "code",
      "source": [
        "print(X_train)"
      ],
      "metadata": {
        "id": "wmDanH3CNVkl"
      },
      "execution_count": null,
      "outputs": []
    },
    {
      "cell_type": "code",
      "execution_count": 12,
      "metadata": {
        "id": "UrI5N6fT5DJO"
      },
      "outputs": [],
      "source": [
        "assay = \"Activity\"\n",
        "y_train = data[assay][data[\"split\"]==1].values.reshape(-1,1)\n",
        "y_test = data[assay][data[\"split\"]==0].values.reshape(-1,1)"
      ]
    },
    {
      "cell_type": "code",
      "execution_count": 13,
      "metadata": {
        "id": "nQgGXcrL5DJO",
        "outputId": "ecb4dd68-14bd-409e-f11b-a113c5769985",
        "colab": {
          "base_uri": "https://localhost:8080/"
        }
      },
      "outputs": [
        {
          "output_type": "stream",
          "name": "stdout",
          "text": [
            "(1434, 1)\n"
          ]
        }
      ],
      "source": [
        "print(np.shape(y_train))"
      ]
    },
    {
      "cell_type": "code",
      "execution_count": 14,
      "metadata": {
        "id": "-xPuxTnO5DJP",
        "outputId": "3870b6ae-3b32-49a7-c696-64e6b66ecd28",
        "colab": {
          "base_uri": "https://localhost:8080/"
        }
      },
      "outputs": [
        {
          "output_type": "stream",
          "name": "stdout",
          "text": [
            "(48, 48, 4)\n"
          ]
        }
      ],
      "source": [
        "input_shape = X_train.shape[1:]\n",
        "print(input_shape)\n",
        "from keras.layers import Dense, Dropout"
      ]
    },
    {
      "cell_type": "code",
      "execution_count": 15,
      "metadata": {
        "id": "jD3NFRB35DJP"
      },
      "outputs": [],
      "source": [
        "def Inception0(input):\n",
        "    tower_1 = Conv2D(16, (1, 1), padding='same', activation='relu')(input)\n",
        "    tower_1 = Conv2D(16, (3, 3), padding='same', activation='relu')(tower_1)\n",
        " \n",
        "    tower_2 = Conv2D(16, (1, 1), padding='same', activation='relu')(input)\n",
        "    tower_2 = Conv2D(16, (5, 5), padding='same', activation='relu')(tower_2)\n",
        " \n",
        "    tower_3 = Conv2D(16, (1, 1), padding='same', activation='relu')(input)\n",
        " \n",
        "    output = keras.layers.concatenate([tower_1, tower_2, tower_3], axis=-1)\n",
        "    return output"
      ]
    },
    {
      "cell_type": "code",
      "execution_count": 16,
      "metadata": {
        "id": "9EPlDF9j5DJP"
      },
      "outputs": [],
      "source": [
        "def Inception(input):\n",
        "    tower_1 = Conv2D(16, (1, 1), padding='same', activation='relu')(input)\n",
        "    tower_1 = Conv2D(16, (3, 3), padding='same', activation='relu')(tower_1)\n",
        " \n",
        "    tower_2 = Conv2D(16, (1, 1), padding='same', activation='relu')(input)\n",
        "    tower_2 = Conv2D(16, (5, 5), padding='same', activation='relu')(tower_2)\n",
        " \n",
        "    tower_3 = MaxPooling2D((3, 3), strides=(1, 1), padding='same')(input)\n",
        "    tower_3 = Conv2D(16, (1, 1), padding='same', activation='relu')(tower_3)\n",
        " \n",
        "    output = keras.layers.concatenate([tower_1, tower_2, tower_3], axis=-1)\n",
        "    return output"
      ]
    },
    {
      "cell_type": "code",
      "execution_count": 17,
      "metadata": {
        "id": "tWE4KI8l5DJP",
        "outputId": "d7bf21da-4fd3-4f09-fccb-a134ba987ce8",
        "colab": {
          "base_uri": "https://localhost:8080/"
        }
      },
      "outputs": [
        {
          "output_type": "stream",
          "name": "stdout",
          "text": [
            "Model: \"model\"\n",
            "__________________________________________________________________________________________________\n",
            " Layer (type)                   Output Shape         Param #     Connected to                     \n",
            "==================================================================================================\n",
            " input_1 (InputLayer)           [(None, 48, 48, 4)]  0           []                               \n",
            "                                                                                                  \n",
            " conv2d (Conv2D)                (None, 48, 48, 16)   80          ['input_1[0][0]']                \n",
            "                                                                                                  \n",
            " conv2d_2 (Conv2D)              (None, 48, 48, 16)   80          ['input_1[0][0]']                \n",
            "                                                                                                  \n",
            " conv2d_1 (Conv2D)              (None, 48, 48, 16)   2320        ['conv2d[0][0]']                 \n",
            "                                                                                                  \n",
            " conv2d_3 (Conv2D)              (None, 48, 48, 16)   6416        ['conv2d_2[0][0]']               \n",
            "                                                                                                  \n",
            " conv2d_4 (Conv2D)              (None, 48, 48, 16)   80          ['input_1[0][0]']                \n",
            "                                                                                                  \n",
            " concatenate (Concatenate)      (None, 48, 48, 48)   0           ['conv2d_1[0][0]',               \n",
            "                                                                  'conv2d_3[0][0]',               \n",
            "                                                                  'conv2d_4[0][0]']               \n",
            "                                                                                                  \n",
            " conv2d_5 (Conv2D)              (None, 48, 48, 16)   784         ['concatenate[0][0]']            \n",
            "                                                                                                  \n",
            " conv2d_7 (Conv2D)              (None, 48, 48, 16)   784         ['concatenate[0][0]']            \n",
            "                                                                                                  \n",
            " max_pooling2d (MaxPooling2D)   (None, 48, 48, 48)   0           ['concatenate[0][0]']            \n",
            "                                                                                                  \n",
            " conv2d_6 (Conv2D)              (None, 48, 48, 16)   2320        ['conv2d_5[0][0]']               \n",
            "                                                                                                  \n",
            " conv2d_8 (Conv2D)              (None, 48, 48, 16)   6416        ['conv2d_7[0][0]']               \n",
            "                                                                                                  \n",
            " conv2d_9 (Conv2D)              (None, 48, 48, 16)   784         ['max_pooling2d[0][0]']          \n",
            "                                                                                                  \n",
            " concatenate_1 (Concatenate)    (None, 48, 48, 48)   0           ['conv2d_6[0][0]',               \n",
            "                                                                  'conv2d_8[0][0]',               \n",
            "                                                                  'conv2d_9[0][0]']               \n",
            "                                                                                                  \n",
            " conv2d_10 (Conv2D)             (None, 48, 48, 16)   784         ['concatenate_1[0][0]']          \n",
            "                                                                                                  \n",
            " conv2d_12 (Conv2D)             (None, 48, 48, 16)   784         ['concatenate_1[0][0]']          \n",
            "                                                                                                  \n",
            " max_pooling2d_1 (MaxPooling2D)  (None, 48, 48, 48)  0           ['concatenate_1[0][0]']          \n",
            "                                                                                                  \n",
            " conv2d_11 (Conv2D)             (None, 48, 48, 16)   2320        ['conv2d_10[0][0]']              \n",
            "                                                                                                  \n",
            " conv2d_13 (Conv2D)             (None, 48, 48, 16)   6416        ['conv2d_12[0][0]']              \n",
            "                                                                                                  \n",
            " conv2d_14 (Conv2D)             (None, 48, 48, 16)   784         ['max_pooling2d_1[0][0]']        \n",
            "                                                                                                  \n",
            " concatenate_2 (Concatenate)    (None, 48, 48, 48)   0           ['conv2d_11[0][0]',              \n",
            "                                                                  'conv2d_13[0][0]',              \n",
            "                                                                  'conv2d_14[0][0]']              \n",
            "                                                                                                  \n",
            " max_pooling2d_2 (MaxPooling2D)  (None, 1, 1, 48)    0           ['concatenate_2[0][0]']          \n",
            "                                                                                                  \n",
            " flatten (Flatten)              (None, 48)           0           ['max_pooling2d_2[0][0]']        \n",
            "                                                                                                  \n",
            " dense (Dense)                  (None, 100)          4900        ['flatten[0][0]']                \n",
            "                                                                                                  \n",
            " dense_1 (Dense)                (None, 1)            101         ['dense[0][0]']                  \n",
            "                                                                                                  \n",
            "==================================================================================================\n",
            "Total params: 36,153\n",
            "Trainable params: 36,153\n",
            "Non-trainable params: 0\n",
            "__________________________________________________________________________________________________\n",
            "None\n"
          ]
        }
      ],
      "source": [
        "input_img = Input(shape=input_shape)\n",
        " \n",
        "x = Inception0(input_img)\n",
        "x = Inception(x)\n",
        "x = Inception(x)\n",
        "od=int(x.shape[1])\n",
        "x = MaxPooling2D(pool_size=(od,od), strides=(1,1))(x)\n",
        "x = Flatten()(x)\n",
        "x = Dense(100, activation='relu')(x)\n",
        "output = Dense(1, activation='linear')(x)\n",
        " \n",
        "model = Model(inputs=input_img, outputs=output)\n",
        " \n",
        "print(model.summary())"
      ]
    },
    {
      "cell_type": "code",
      "execution_count": 18,
      "metadata": {
        "id": "q67aUMFY5DJP"
      },
      "outputs": [],
      "source": [
        "from keras.preprocessing.image import ImageDataGenerator\n",
        "generator = ImageDataGenerator(rotation_range=180,\n",
        "                               width_shift_range=0.1,height_shift_range=0.1,\n",
        "                               fill_mode=\"constant\",cval = 0,\n",
        "                               horizontal_flip=True, vertical_flip=True,data_format='channels_last',\n",
        "                            \n",
        "                               )\n"
      ]
    },
    {
      "cell_type": "code",
      "execution_count": 19,
      "metadata": {
        "id": "PapE9NJi5DJQ"
      },
      "outputs": [],
      "source": [
        "def coeff_determination(y_true, y_pred):\n",
        "    from keras import backend as K\n",
        "    SS_res =  K.sum(K.square( y_true-y_pred ))\n",
        "    SS_tot = K.sum(K.square( y_true - K.mean(y_true) ) )\n",
        "    return ( 1 - SS_res/(SS_tot + K.epsilon()) )"
      ]
    },
    {
      "cell_type": "code",
      "execution_count": 20,
      "metadata": {
        "id": "-URk_t4S5DJQ"
      },
      "outputs": [],
      "source": [
        "\n",
        "def get_lr_metric(optimizer):\n",
        "    def lr(y_true, y_pred):\n",
        "        return optimizer.lr\n",
        "    return lr\n"
      ]
    },
    {
      "cell_type": "code",
      "execution_count": 21,
      "metadata": {
        "id": "AGXJ_35j5DJQ",
        "outputId": "d9852564-b6d9-42f9-df0a-ae13f1fefb5d",
        "colab": {
          "base_uri": "https://localhost:8080/"
        }
      },
      "outputs": [
        {
          "output_type": "stream",
          "name": "stderr",
          "text": [
            "/usr/local/lib/python3.10/dist-packages/keras/optimizers/legacy/adam.py:117: UserWarning: The `lr` argument is deprecated, use `learning_rate` instead.\n",
            "  super().__init__(name, **kwargs)\n"
          ]
        }
      ],
      "source": [
        "optimizer = Adam(lr=0.00025)\n",
        "lr_metric = get_lr_metric(optimizer)\n",
        "model.compile(loss=\"mse\", optimizer=optimizer, metrics=[coeff_determination, lr_metric])"
      ]
    },
    {
      "cell_type": "code",
      "execution_count": 22,
      "metadata": {
        "id": "UC3SQQ6N5DJQ",
        "outputId": "bd8b61b5-6a25-4ff4-9fbd-d4829497580b",
        "colab": {
          "base_uri": "https://localhost:8080/"
        }
      },
      "outputs": [
        {
          "output_type": "stream",
          "name": "stdout",
          "text": [
            "Epoch 1/10\n"
          ]
        },
        {
          "output_type": "stream",
          "name": "stderr",
          "text": [
            "<ipython-input-22-d4d99f9e5946>:20: UserWarning: `Model.fit_generator` is deprecated and will be removed in a future version. Please use `Model.fit`, which supports generators.\n",
            "  history =model.fit_generator(g,\n"
          ]
        },
        {
          "output_type": "stream",
          "name": "stdout",
          "text": [
            "560/560 [==============================] - ETA: 0s - loss: 1.0785 - coeff_determination: 0.0379 - lr: 2.5000e-04\n",
            "Epoch 1: val_loss improved from inf to 0.94462, saving model to weights.best.hdf5\n",
            "560/560 [==============================] - 82s 136ms/step - loss: 1.0785 - coeff_determination: 0.0379 - lr: 2.5000e-04 - val_loss: 0.9446 - val_coeff_determination: -0.0439 - val_lr: 2.5000e-04\n",
            "Epoch 2/10\n",
            "560/560 [==============================] - ETA: 0s - loss: 0.7691 - coeff_determination: 0.3154 - lr: 2.5000e-04\n",
            "Epoch 2: val_loss improved from 0.94462 to 0.75510, saving model to weights.best.hdf5\n",
            "560/560 [==============================] - 76s 136ms/step - loss: 0.7691 - coeff_determination: 0.3154 - lr: 2.5000e-04 - val_loss: 0.7551 - val_coeff_determination: 0.1715 - val_lr: 2.5000e-04\n",
            "Epoch 3/10\n",
            "560/560 [==============================] - ETA: 0s - loss: 0.7056 - coeff_determination: 0.3720 - lr: 2.5000e-04\n",
            "Epoch 3: val_loss improved from 0.75510 to 0.69027, saving model to weights.best.hdf5\n",
            "560/560 [==============================] - 77s 138ms/step - loss: 0.7056 - coeff_determination: 0.3720 - lr: 2.5000e-04 - val_loss: 0.6903 - val_coeff_determination: 0.2604 - val_lr: 2.5000e-04\n",
            "Epoch 4/10\n",
            "560/560 [==============================] - ETA: 0s - loss: 0.6567 - coeff_determination: 0.4160 - lr: 2.5000e-04\n",
            "Epoch 4: val_loss did not improve from 0.69027\n",
            "560/560 [==============================] - 76s 136ms/step - loss: 0.6567 - coeff_determination: 0.4160 - lr: 2.5000e-04 - val_loss: 0.7067 - val_coeff_determination: 0.2229 - val_lr: 2.5000e-04\n",
            "Epoch 5/10\n",
            "560/560 [==============================] - ETA: 0s - loss: 0.6200 - coeff_determination: 0.4481 - lr: 2.5000e-04\n",
            "Epoch 5: val_loss improved from 0.69027 to 0.59381, saving model to weights.best.hdf5\n",
            "560/560 [==============================] - 77s 137ms/step - loss: 0.6200 - coeff_determination: 0.4481 - lr: 2.5000e-04 - val_loss: 0.5938 - val_coeff_determination: 0.3568 - val_lr: 2.5000e-04\n",
            "Epoch 6/10\n",
            "560/560 [==============================] - ETA: 0s - loss: 0.5882 - coeff_determination: 0.4756 - lr: 2.5000e-04\n",
            "Epoch 6: val_loss improved from 0.59381 to 0.54978, saving model to weights.best.hdf5\n",
            "560/560 [==============================] - 76s 135ms/step - loss: 0.5882 - coeff_determination: 0.4756 - lr: 2.5000e-04 - val_loss: 0.5498 - val_coeff_determination: 0.4033 - val_lr: 2.5000e-04\n",
            "Epoch 7/10\n",
            "560/560 [==============================] - ETA: 0s - loss: 0.5616 - coeff_determination: 0.4990 - lr: 2.5000e-04\n",
            "Epoch 7: val_loss did not improve from 0.54978\n",
            "560/560 [==============================] - 76s 135ms/step - loss: 0.5616 - coeff_determination: 0.4990 - lr: 2.5000e-04 - val_loss: 0.6141 - val_coeff_determination: 0.3351 - val_lr: 2.5000e-04\n",
            "Epoch 8/10\n",
            "560/560 [==============================] - ETA: 0s - loss: 0.5353 - coeff_determination: 0.5222 - lr: 2.5000e-04\n",
            "Epoch 8: val_loss improved from 0.54978 to 0.50210, saving model to weights.best.hdf5\n",
            "560/560 [==============================] - 77s 137ms/step - loss: 0.5353 - coeff_determination: 0.5222 - lr: 2.5000e-04 - val_loss: 0.5021 - val_coeff_determination: 0.4605 - val_lr: 2.5000e-04\n",
            "Epoch 9/10\n",
            "560/560 [==============================] - ETA: 0s - loss: 0.5180 - coeff_determination: 0.5382 - lr: 2.5000e-04\n",
            "Epoch 9: val_loss did not improve from 0.50210\n",
            "560/560 [==============================] - 76s 135ms/step - loss: 0.5180 - coeff_determination: 0.5382 - lr: 2.5000e-04 - val_loss: 0.5620 - val_coeff_determination: 0.3753 - val_lr: 2.5000e-04\n",
            "Epoch 10/10\n",
            "560/560 [==============================] - ETA: 0s - loss: 0.5015 - coeff_determination: 0.5522 - lr: 2.5000e-04\n",
            "Epoch 10: val_loss did not improve from 0.50210\n",
            "560/560 [==============================] - 75s 133ms/step - loss: 0.5015 - coeff_determination: 0.5522 - lr: 2.5000e-04 - val_loss: 0.5346 - val_coeff_determination: 0.4177 - val_lr: 2.5000e-04\n"
          ]
        }
      ],
      "source": [
        "#Concatenate for longer epochs\n",
        "Xt = np.concatenate([X_train]*50, axis=0)\n",
        "yt = np.concatenate([y_train]*50, axis=0)\n",
        " \n",
        "batch_size=128\n",
        "\n",
        "g = generator.flow(Xt, yt, batch_size=batch_size, shuffle=True)\n",
        "steps_per_epoch = 10000/batch_size\n",
        "\n",
        "\n",
        "\n",
        "callbacks_list = [\n",
        "    ReduceLROnPlateau(monitor='val_loss', factor=0.5, patience=5, min_lr=1e-15, verbose=1, mode='auto',cooldown=0),\n",
        "    ModelCheckpoint(filepath=\"weights.best.hdf5\", monitor='val_loss', save_best_only=True, verbose=1, mode='auto')\n",
        "    \n",
        "]\n",
        "\n",
        "\n",
        "\n",
        "history =model.fit_generator(g,\n",
        "                              steps_per_epoch=len(Xt)//batch_size,\n",
        "                              epochs= 10,\n",
        "                              validation_data=(X_test,y_test),\n",
        "                              callbacks=callbacks_list)"
      ]
    },
    {
      "cell_type": "code",
      "source": [
        "model.load_weights('/content/weights.best.hdf5')"
      ],
      "metadata": {
        "id": "9gV9YJARI0GI"
      },
      "execution_count": 69,
      "outputs": []
    },
    {
      "cell_type": "code",
      "source": [
        "from rdkit import Chem\n",
        "import numpy as np\n",
        "\n",
        "# load the trained model and weights\n",
        "model.load_weights('/content/weights.best.hdf5')\n",
        "\n",
        "# define a molecule in SMILES format\n",
        "mol_smiles = 'O=C(Nc1ccccc1)Nc1ccc(C(=O)NCc2ccccn2)cc1'\n",
        "\n",
        "# convert the SMILES string to an RDKit molecule object\n",
        "mol = Chem.MolFromSmiles(mol_smiles)\n",
        "\n",
        "# define the vectorize function to generate the tensor representation for the molecule\n",
        "def vectorize(mol):\n",
        "    return chemcepterize_mol(mol, embed=12)\n",
        "\n",
        "# apply the vectorize function to generate the tensor representation for the molecule\n",
        "mol_tensor = vectorize(mol)\n",
        "\n",
        "# make a prediction on the tensor representation of the molecule using the loaded model\n",
        "tox_pred = model.predict(np.expand_dims(mol_tensor, axis=0))\n"
      ],
      "metadata": {
        "id": "F7cMGY1YWbXb",
        "outputId": "105d27ef-2764-4c1c-8f4f-d9496f16252a",
        "colab": {
          "base_uri": "https://localhost:8080/"
        }
      },
      "execution_count": 110,
      "outputs": [
        {
          "output_type": "stream",
          "name": "stdout",
          "text": [
            "1/1 [==============================] - 0s 22ms/step\n"
          ]
        }
      ]
    },
    {
      "cell_type": "code",
      "source": [
        "y_pred"
      ],
      "metadata": {
        "id": "7oFx3CmEWmOq",
        "outputId": "8fb97337-d31f-42d7-9e19-2f27535b227b",
        "colab": {
          "base_uri": "https://localhost:8080/"
        }
      },
      "execution_count": 111,
      "outputs": [
        {
          "output_type": "execute_result",
          "data": {
            "text/plain": [
              "array([[-0.25475895]], dtype=float32)"
            ]
          },
          "metadata": {},
          "execution_count": 111
        }
      ]
    },
    {
      "cell_type": "code",
      "execution_count": 98,
      "metadata": {
        "id": "iN6XUMZZ5DJQ",
        "outputId": "92ed1032-118f-4416-ba5f-d5d81eb07ad2",
        "colab": {
          "base_uri": "https://localhost:8080/",
          "height": 809
        }
      },
      "outputs": [
        {
          "output_type": "stream",
          "name": "stderr",
          "text": [
            "WARNING:matplotlib.legend:No artists with labels found to put in legend.  Note that artists whose label start with an underscore are ignored when legend() is called with no argument.\n",
            "WARNING:matplotlib.legend:No artists with labels found to put in legend.  Note that artists whose label start with an underscore are ignored when legend() is called with no argument.\n"
          ]
        },
        {
          "output_type": "display_data",
          "data": {
            "text/plain": [
              "<Figure size 1000x800 with 4 Axes>"
            ],
            "image/png": "[encoded data removed]"
          },
          "metadata": {}
        }
      ],
      "source": [
        "hist = history.history\n",
        "\n",
        "plt.figure(figsize=(10, 8))\n",
        "\n",
        "for label in ['val_coeff_determination','coeff_determination']:\n",
        "    plt.subplot(221)\n",
        "    plt.plot(hist[label], label = label)\n",
        "    plt.legend()\n",
        "    plt.xlabel(\"Epochs\")\n",
        "    plt.ylabel(\"coeff_determination\")\n",
        "    \n",
        "for label in ['val_loss','loss']:\n",
        "    plt.subplot(222)\n",
        "    plt.plot(hist[label], label = label)\n",
        "    plt.legend()\n",
        "    plt.xlabel(\"Epochs\")\n",
        "    plt.ylabel(\"loss\")\n",
        "\n",
        "\n",
        "\n",
        "plt.subplot(223)\n",
        "plt.plot( hist['lr'],hist['val_coeff_determination']  )\n",
        "plt.legend()\n",
        "plt.xlabel(\"lr\")\n",
        "plt.ylabel(\"val_coeff_determination\")\n",
        "\n",
        "\n",
        "plt.subplot(224)\n",
        "plt.plot( hist['lr'],hist['val_loss']  )\n",
        "plt.legend()\n",
        "plt.xlabel(\"lr\")\n",
        "plt.ylabel(\"val_loss\")\n",
        "\n",
        "    \n",
        "plt.subplots_adjust(top=0.92, bottom=0.08, left=0.10, right=0.95, hspace=0.25,\n",
        "                    wspace=0.35)"
      ]
    },
    {
      "cell_type": "code",
      "source": [
        "model.load_weights('/content/weights.best.hdf5')\n"
      ],
      "metadata": {
        "id": "XtL1bZvg6oIC"
      },
      "execution_count": 44,
      "outputs": []
    },
    {
      "cell_type": "code",
      "source": [],
      "metadata": {
        "id": "sWvsyFk6Xr3C"
      },
      "execution_count": null,
      "outputs": []
    }
  ],
  "metadata": {
    "kernelspec": {
      "display_name": "Python 3",
      "language": "python",
      "name": "python3"
    },
    "language_info": {
      "codemirror_mode": {
        "name": "ipython",
        "version": 3
      },
      "file_extension": ".py",
      "mimetype": "text/x-python",
      "name": "python",
      "nbconvert_exporter": "python",
      "pygments_lexer": "ipython3",
      "version": "3.6.5"
    },
    "colab": {
      "provenance": []
    },
    "accelerator": "GPU",
    "gpuClass": "standard"
  },
  "nbformat": 4,
  "nbformat_minor": 0
}